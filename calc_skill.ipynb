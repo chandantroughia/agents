{
 "cells": [
  {
   "cell_type": "code",
   "execution_count": 20,
   "metadata": {},
   "outputs": [],
   "source": [
    "from langchain_core.runnables import ConfigurableField\n",
    "from langchain_core.tools import tool\n",
    "from langchain_openai import ChatOpenAI\n",
    "from dotenv import load_dotenv\n",
    "import os\n",
    "from langchain_core.messages import HumanMessage, SystemMessage"
   ]
  },
  {
   "cell_type": "code",
   "execution_count": 21,
   "metadata": {},
   "outputs": [],
   "source": [
    "# Load environment variables from .env file\n",
    "load_dotenv()\n",
    "\n",
    "# Retrieve the API key\n",
    "api_key = os.getenv(\"OPENAI_API_KEY\")"
   ]
  },
  {
   "cell_type": "code",
   "execution_count": 22,
   "metadata": {},
   "outputs": [],
   "source": [
    "# Define tools using concise function definitions\n",
    "@tool\n",
    "def multiply(x: float, y: float) -> float:\n",
    "   \"\"\"Multiply 'x' times 'y'.\"\"\"\n",
    "   return x * y\n",
    " \n",
    "@tool\n",
    "def exponentiate(x: float, y: float) -> float:\n",
    "   \"\"\"Raise 'x' to the 'y'.\"\"\"\n",
    "   return x**y\n",
    " \n",
    "@tool\n",
    "def add(x: float, y: float) -> float:\n",
    "   \"\"\"Add 'x' and 'y'.\"\"\"\n",
    "   return x + y"
   ]
  },
  {
   "cell_type": "code",
   "execution_count": 23,
   "metadata": {},
   "outputs": [],
   "source": [
    "tools = [multiply, exponentiate, add]\n",
    " \n",
    "# Initialize the LLM with GPT-4o and bind the tools\n",
    "llm = ChatOpenAI(model_name=\"gpt-4o\", temperature=0, api_key=api_key)\n",
    "llm_with_tools = llm.bind_tools(tools)"
   ]
  },
  {
   "cell_type": "code",
   "execution_count": 25,
   "metadata": {},
   "outputs": [],
   "source": [
    "query = \"What is 393 * 12.25? Also, what is 11 + 49?\"\n",
    "messages = [HumanMessage(query)]"
   ]
  },
  {
   "cell_type": "code",
   "execution_count": 26,
   "metadata": {},
   "outputs": [],
   "source": [
    "ai_msg = llm_with_tools.invoke(messages)\n",
    "messages.append(ai_msg)"
   ]
  },
  {
   "cell_type": "code",
   "execution_count": 27,
   "metadata": {},
   "outputs": [
    {
     "data": {
      "text/plain": [
       "[HumanMessage(content='What is 393 * 12.25? Also, what is 11 + 49?', additional_kwargs={}, response_metadata={}),\n",
       " AIMessage(content='', additional_kwargs={'tool_calls': [{'id': 'call_l9PQ2GiE8JDiZddAdtjS2Reu', 'function': {'arguments': '{\"x\": 393, \"y\": 12.25}', 'name': 'multiply'}, 'type': 'function'}, {'id': 'call_PCaSAHyZCja6uR1xkH23whdF', 'function': {'arguments': '{\"x\": 11, \"y\": 49}', 'name': 'add'}, 'type': 'function'}], 'refusal': None}, response_metadata={'token_usage': {'completion_tokens': 53, 'prompt_tokens': 120, 'total_tokens': 173, 'completion_tokens_details': {'accepted_prediction_tokens': 0, 'audio_tokens': 0, 'reasoning_tokens': 0, 'rejected_prediction_tokens': 0}, 'prompt_tokens_details': {'audio_tokens': 0, 'cached_tokens': 0}}, 'model_name': 'gpt-4o-2024-08-06', 'system_fingerprint': 'fp_50cad350e4', 'finish_reason': 'tool_calls', 'logprobs': None}, id='run-77517e8d-b8bc-4896-994d-96e76beb6bb2-0', tool_calls=[{'name': 'multiply', 'args': {'x': 393, 'y': 12.25}, 'id': 'call_l9PQ2GiE8JDiZddAdtjS2Reu', 'type': 'tool_call'}, {'name': 'add', 'args': {'x': 11, 'y': 49}, 'id': 'call_PCaSAHyZCja6uR1xkH23whdF', 'type': 'tool_call'}], usage_metadata={'input_tokens': 120, 'output_tokens': 53, 'total_tokens': 173, 'input_token_details': {'audio': 0, 'cache_read': 0}, 'output_token_details': {'audio': 0, 'reasoning': 0}})]"
      ]
     },
     "execution_count": 27,
     "metadata": {},
     "output_type": "execute_result"
    }
   ],
   "source": [
    "messages"
   ]
  },
  {
   "cell_type": "code",
   "execution_count": 30,
   "metadata": {},
   "outputs": [
    {
     "name": "stdout",
     "output_type": "stream",
     "text": [
      "multiply {'x': 393, 'y': 12.25} 4814.25\n",
      "add {'x': 11, 'y': 49} 60.0\n"
     ]
    }
   ],
   "source": [
    "for tool_call in ai_msg.tool_calls:\n",
    "   selected_tool = {\"add\": add, \"multiply\": multiply, \"exponentiate\": exponentiate}[tool_call[\"name\"].lower()]\n",
    "   tool_msg = selected_tool.invoke(tool_call)\n",
    "  \n",
    "   print(f\"{tool_msg.name} {tool_call['args']} {tool_msg.content}\")\n",
    "   messages.append(tool_msg)"
   ]
  },
  {
   "cell_type": "code",
   "execution_count": 31,
   "metadata": {},
   "outputs": [
    {
     "name": "stdout",
     "output_type": "stream",
     "text": [
      "The result of \\(393 \\times 12.25\\) is 4814.25, and the result of \\(11 + 49\\) is 60.\n"
     ]
    }
   ],
   "source": [
    "final_response = llm_with_tools.invoke(messages)\n",
    "print(final_response.content)"
   ]
  },
  {
   "cell_type": "code",
   "execution_count": null,
   "metadata": {},
   "outputs": [],
   "source": []
  }
 ],
 "metadata": {
  "kernelspec": {
   "display_name": ".venv",
   "language": "python",
   "name": "python3"
  },
  "language_info": {
   "codemirror_mode": {
    "name": "ipython",
    "version": 3
   },
   "file_extension": ".py",
   "mimetype": "text/x-python",
   "name": "python",
   "nbconvert_exporter": "python",
   "pygments_lexer": "ipython3",
   "version": "3.10.12"
  }
 },
 "nbformat": 4,
 "nbformat_minor": 2
}
