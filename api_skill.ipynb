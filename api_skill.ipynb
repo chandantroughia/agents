{
 "cells": [
  {
   "cell_type": "code",
   "execution_count": 9,
   "metadata": {},
   "outputs": [],
   "source": [
    "from dotenv import load_dotenv\n",
    "import os\n",
    "from langchain_core.tools import tool\n",
    "from langchain_openai import ChatOpenAI\n",
    "from langchain_community.tools import WikipediaQueryRun\n",
    "from langchain_community.utilities import WikipediaAPIWrapper\n",
    "from langchain_core.messages import HumanMessage\n",
    "import requests"
   ]
  },
  {
   "cell_type": "code",
   "execution_count": 10,
   "metadata": {},
   "outputs": [],
   "source": [
    "# Load environment variables from .env file\n",
    "load_dotenv()\n",
    "\n",
    "# Retrieve the API key\n",
    "api_key = os.getenv(\"OPENAI_API_KEY\")"
   ]
  },
  {
   "cell_type": "code",
   "execution_count": 11,
   "metadata": {},
   "outputs": [],
   "source": [
    "@tool\n",
    "def get_stock_price(ticker: str) -> float:\n",
    "   \"\"\"Get the stock price for the stock exchange ticker for the company.\"\"\"\n",
    "   api_url = f\"https://finance.yahoo.com/quote/{ticker}\"\n",
    "   response = requests.get(api_url)\n",
    "   if response.status_code == 200:\n",
    "       data = response.json()\n",
    "       return data[\"price\"]\n",
    "   else:\n",
    "       raise ValueError(f\"Failed to fetch stock price for {ticker}\")\n",
    " "
   ]
  },
  {
   "cell_type": "code",
   "execution_count": 12,
   "metadata": {},
   "outputs": [],
   "source": [
    "# Initialize the LLM with GPT-4o and bind the tools\n",
    "llm = ChatOpenAI(model_name=\"gpt-4o\", temperature=0, api_key=api_key)\n",
    "llm_with_tools = llm.bind_tools([get_stock_price])"
   ]
  },
  {
   "cell_type": "code",
   "execution_count": 13,
   "metadata": {},
   "outputs": [],
   "source": [
    "messages = [HumanMessage(\"What is the stock price of Apple?\")]\n",
    " \n",
    "ai_msg = llm_with_tools.invoke(messages)\n",
    "messages.append(ai_msg)"
   ]
  },
  {
   "cell_type": "code",
   "execution_count": null,
   "metadata": {},
   "outputs": [],
   "source": [
    "for tool_call in ai_msg.tool_calls:\n",
    "   tool_msg = get_stock_price.invoke(tool_call)\n",
    "  \n",
    "   print(tool_msg.name)\n",
    "   print(tool_call['args'])\n",
    "   print(tool_msg.content)\n",
    "   messages.append(tool_msg)\n",
    "   print()\n",
    " \n",
    "final_response = llm_with_tools.invoke(messages)\n",
    "print(final_response.content)"
   ]
  },
  {
   "cell_type": "code",
   "execution_count": null,
   "metadata": {},
   "outputs": [],
   "source": []
  }
 ],
 "metadata": {
  "kernelspec": {
   "display_name": ".venv",
   "language": "python",
   "name": "python3"
  },
  "language_info": {
   "codemirror_mode": {
    "name": "ipython",
    "version": 3
   },
   "file_extension": ".py",
   "mimetype": "text/x-python",
   "name": "python",
   "nbconvert_exporter": "python",
   "pygments_lexer": "ipython3",
   "version": "3.10.12"
  }
 },
 "nbformat": 4,
 "nbformat_minor": 2
}
